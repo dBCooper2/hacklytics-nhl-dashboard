{
 "cells": [
  {
   "cell_type": "markdown",
   "metadata": {},
   "source": [
    "# Merging Shots and PBP Data\n",
    "\n",
    "The PBP data has X and Y coordinates of shots, but not extra features we would need like the shot distance, speed, etc. to chart them. This notebook aims to merge the datasets to gain as much shot information as possible, then plot that data somehow with animations."
   ]
  },
  {
   "cell_type": "code",
   "execution_count": 3,
   "metadata": {},
   "outputs": [],
   "source": [
    "import numpy as np\n",
    "import pandas as pd\n",
    "import plotly as plt\n",
    "import hockey_rink as hr"
   ]
  },
  {
   "cell_type": "code",
   "execution_count": 4,
   "metadata": {},
   "outputs": [],
   "source": [
    "pbp = pd.read_csv('/Users/dB/Documents/repos/github/hacklytics-nhl-dashboard/.data/nhl_pbp20192020.csv')\n",
    "shots = pd.read_csv('/Users/dB/Documents/repos/github/hacklytics-nhl-dashboard/.data/shots_2015-2023.csv')"
   ]
  },
  {
   "cell_type": "markdown",
   "metadata": {},
   "source": []
  }
 ],
 "metadata": {
  "kernelspec": {
   "display_name": ".venv",
   "language": "python",
   "name": "python3"
  },
  "language_info": {
   "codemirror_mode": {
    "name": "ipython",
    "version": 3
   },
   "file_extension": ".py",
   "mimetype": "text/x-python",
   "name": "python",
   "nbconvert_exporter": "python",
   "pygments_lexer": "ipython3",
   "version": "3.11.11"
  }
 },
 "nbformat": 4,
 "nbformat_minor": 2
}
